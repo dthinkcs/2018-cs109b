{
 "cells": [
  {
   "cell_type": "code",
   "execution_count": 5,
   "metadata": {},
   "outputs": [
    {
     "name": "stderr",
     "output_type": "stream",
     "text": [
      "/Users/mehulsmritiraje/anaconda/lib/python3.6/site-packages/h5py/__init__.py:34: FutureWarning: Conversion of the second argument of issubdtype from `float` to `np.floating` is deprecated. In future, it will be treated as `np.float64 == np.dtype(float).type`.\n",
      "  from ._conv import register_converters as _register_converters\n",
      "Using TensorFlow backend.\n"
     ]
    }
   ],
   "source": [
    "import keras\n",
    "from keras.models import Sequential\n",
    "from keras.layers import Dense\n",
    "from sklearn.datasets import make_moons, make_circles\n",
    "from sklearn.preprocessing import scale, PolynomialFeatures\n",
    "from sklearn.model_selection import train_test_split\n",
    "from sklearn.linear_model import LogisticRegression\n",
    "from sklearn.pipeline import make_pipeline\n",
    "from sklearn.linear_model import Ridge\n",
    "from sklearn.metrics import r2_score as r2\n",
    "import numpy as np\n",
    "import scipy as sp\n",
    "import matplotlib.pyplot as plt\n",
    "%matplotlib inline"
   ]
  },
  {
   "cell_type": "markdown",
   "metadata": {},
   "source": [
    "## I. Architectures Encoding Functions\n",
    "\n",
    "**Motivating Question:** What exact kind of mathematical/statistical object is encoded by a neural network?\n",
    "\n",
    "**Exercise #1:** For a network with the following architecture (a single output and one hidden layer), write the closed form expression for the function $f$ represented by the network.\n",
    "\n",
    "Assume that the activation function at the output node is the identity funciton. Use the following notation:\n",
    "- let $\\mathbf{x}\\in \\mathbb{R}^D$ be the input; let the components of $\\mathbf{x}$ be indexed by $d$\n",
    "- let $H$ be the total number of hidden nodes, indexed by $h$\n",
    "- let $\\phi_h$ be the activation function at the hidden node $h$\n",
    "- let $\\mathbf{u}_h \\mathbb{R}^D$ be the weights connecting the input to the $h$-th hidden node\n",
    "- let $\\mathbf{a} \\mathbb{R}^H$ be the bias for the hidden layer\n",
    "- let $\\mathbf{v} \\in \\mathbb{R}^H$ be the weights connects the hidden nodes to the output\n",
    "- let $b \\in \\mathbb{R}$ be the bias for the output layer\n",
    "<img src=\"single_hidden_layer.jpg\" style=\"width: 600px;\" align=\"center\"/>"
   ]
  },
  {
   "cell_type": "markdown",
   "metadata": {},
   "source": [
    "## II. Regression\n",
    "\n",
    "**Motivating Question:** We saw in Part I that each neural network represents a function that depends on our choice of activation function for each node. In practice, we choose the same activation function for all nodes, from a small set of simple functions. It makes sense to ask just how expressive such networks can be. That is, ***can any function be reasonably approximated by a neural network?*** For a fixed function, ***what kind of archicture do we need in order to approximate it?*** Deep (multiple layers) or wide (many hidden nodes in one layer)?\n",
    "<img src=\"activation-functions.png\" style=\"width: 600px;\" align=\"center\"/>"
   ]
  },
  {
   "cell_type": "markdown",
   "metadata": {},
   "source": [
    "**Exercise #2:** In the following, we fix a function and approximate it using a polynomial model as well as a multi-layer perceptron (MLP) network. Investigate the effects of the network architecture on the quality of the approximation. Discuss the pro's and con's of using each model."
   ]
  },
  {
   "cell_type": "code",
   "execution_count": 6,
   "metadata": {
    "collapsed": true
   },
   "outputs": [],
   "source": [
    "import numpy as np"
   ]
  },
  {
   "cell_type": "code",
   "execution_count": 7,
   "metadata": {},
   "outputs": [],
   "source": [
    "# set the number of samples to take for each toy dataset\n",
    "n_samples = 1000\n",
    "# set the proportion of toy data to hold out for testing\n",
    "test_size = 0.3\n",
    "# set the random seed to make the experiment reproducible \n",
    "random_seed = 1\n",
    "np.random.seed(random_seed)"
   ]
  },
  {
   "cell_type": "code",
   "execution_count": 8,
   "metadata": {},
   "outputs": [],
   "source": [
    "# define a function\n",
    "f = lambda x: np.sin(np.sqrt(x))**2\n",
    "# choose some points from the function - this is our toy dataset \n",
    "X = np.random.permutation(np.linspace(0, 50, n_samples))\n",
    "Y = f(X)\n",
    "# create training and testing data from this set of points\n",
    "X_train, X_test, Y_train, Y_test = train_test_split(X, Y, test_size=test_size)"
   ]
  },
  {
   "cell_type": "code",
   "execution_count": 9,
   "metadata": {},
   "outputs": [
    {
     "name": "stderr",
     "output_type": "stream",
     "text": [
      "/Users/mehulsmritiraje/anaconda/lib/python3.6/site-packages/matplotlib/axes/_axes.py:545: UserWarning: No labelled objects found. Use label='...' kwarg on individual plots.\n",
      "  warnings.warn(\"No labelled objects found. \"\n"
     ]
    },
    {
     "data": {
      "image/png": "[encoded data removed]",
      "text/plain": [
       "<matplotlib.figure.Figure at 0x1270b9e10>"
      ]
     },
     "metadata": {},
     "output_type": "display_data"
    }
   ],
   "source": [
    "# plot the toy data\n",
    "fig, ax = plt.subplots()\n",
    "ax.scatter(X_train, Y_train, color='green')\n",
    "ax.legend()\n",
    "ax.set(xlabel='X', ylabel='Y', title='Toy data set for regression')\n",
    "plt.show()"
   ]
  },
  {
   "cell_type": "markdown",
   "metadata": {},
   "source": [
    "Let's first fit a polynomial model to the toy data set. ***Here you should experiment with the degree of the polynomial and observe the effects this has on the fit.*** You want to think about issues like computational effeciency and generalizability of this type of modeling."
   ]
  },
  {
   "cell_type": "code",
   "execution_count": 10,
   "metadata": {},
   "outputs": [
    {
     "data": {
      "text/plain": [
       "Pipeline(steps=[('polynomialfeatures', PolynomialFeatures(degree=4, include_bias=True, interaction_only=False)), ('ridge', Ridge(alpha=1.0, copy_X=True, fit_intercept=True, max_iter=None,\n",
       "   normalize=False, random_state=None, solver='auto', tol=0.001))])"
      ]
     },
     "execution_count": 10,
     "metadata": {},
     "output_type": "execute_result"
    }
   ],
   "source": [
    "# degree of the polynomial model - play around with this!\n",
    "degree = 4\n",
    "# add polynomial features to the data and fit a ridge regression model\n",
    "simple_model = make_pipeline(PolynomialFeatures(degree), Ridge())\n",
    "simple_model.fit(X_train.reshape((X_train.shape[0], 1)), Y_train)"
   ]
  },
  {
   "cell_type": "code",
   "execution_count": 11,
   "metadata": {},
   "outputs": [
    {
     "data": {
      "image/png": "[encoded data removed]",
      "text/plain": [
       "<matplotlib.figure.Figure at 0x1271c3588>"
      ]
     },
     "metadata": {},
     "output_type": "display_data"
    }
   ],
   "source": [
    "# use our model to predict in the range we want\n",
    "X_range = np.linspace(0, 50, 500).reshape((500, 1))\n",
    "y_pred = simple_model.predict(X_range)\n",
    "\n",
    "# we plot the model (degree 4 polynomial) against the data\n",
    "fig, ax = plt.subplots()\n",
    "ax.scatter(X_train, Y_train, label='Training data')\n",
    "ax.plot(X_range, y_pred, color='r', label='Degree ' + str(degree) + ' polynomial model')\n",
    "ax.legend(loc='best')\n",
    "ax.set(xlabel='X', ylabel='Y', title='Toy regression data set')\n",
    "plt.show()"
   ]
  },
  {
   "cell_type": "code",
   "execution_count": 12,
   "metadata": {},
   "outputs": [
    {
     "name": "stdout",
     "output_type": "stream",
     "text": [
      "Train R2: 0.6687278841455039\n",
      "Test R2: 0.6687278841455039\n"
     ]
    }
   ],
   "source": [
    "# evaluate the model\n",
    "print('Train R2:', simple_model.score(X_test.reshape((X_test.shape[0], 1)), Y_test))\n",
    "print('Test R2:', r2(Y_test, simple_model.predict(X_test.reshape((X_test.shape[0], 1)))))"
   ]
  },
  {
   "cell_type": "markdown",
   "metadata": {},
   "source": [
    "Now let's fit a MLP network with a single hidden layer. Start with sigmoid or hyperbolic-tan activation functions for the hidden nodes and linear activation for the output. \n",
    "\n",
    "***Experiment with the number of hidden nodes and observe the effect of this on the quality of the fit.***  You want to think about issues like computational effeciency and generalizability of this type of modeling. You want to compare the MLP to your polynomial model (in terms of quality of fit, efficiency and generalizability).\n",
    "\n",
    "***Experiment with different activation functions and observe the effect of this on the quality of the fit.*** "
   ]
  },
  {
   "cell_type": "code",
   "execution_count": 30,
   "metadata": {},
   "outputs": [
    {
     "data": {
      "text/plain": [
       "(700,)"
      ]
     },
     "execution_count": 30,
     "metadata": {},
     "output_type": "execute_result"
    }
   ],
   "source": [
    "X_train.shape"
   ]
  },
  {
   "cell_type": "code",
   "execution_count": 65,
   "metadata": {},
   "outputs": [],
   "source": [
    "from keras import layers\n",
    "\n",
    "# number of hidden nodes\n",
    "H = 500\n",
    "# input dimension\n",
    "input_dim = 1\n",
    "\n",
    "# create sequential multi-layer perceptron\n",
    "model = Sequential()\n",
    "# layer 0\n",
    "# model.add(...) \n",
    "model.add(Dense(H, input_shape = (input_dim,), kernel_initializer='normal', activation='tanh'))\n",
    "\n",
    "# layer 1\n",
    "# model.add(...) \n",
    "# model.add(Dense(1, activation='relu'))\n",
    "# model.add(Dense(1, activation='sigmoid'))\n",
    "# model.add(Dense(1, activation='tanh'))\n",
    "model.add(Dense(1, activation='linear', kernel_initializer='normal'))\n",
    "\n",
    "# configure the model\n",
    "# model.compile(...)\n",
    "model.compile(optimizer='adam', # optimization - lots of equally okay soln and it gets stuck. \n",
    "              # because solution is not convex. SGD gets stuck\n",
    "                  loss='mean_squared_error', # minimise the msq; think about drawbacks of this choice; \n",
    "              # here, overfitting\n",
    "                  metrics=['accuracy'])\n",
    "\n",
    "# Why not polynomial? Specific nonlinearity, not very flexible, putting legos together for enough expressiveness\n",
    "# NN is a more general schema"
   ]
  },
  {
   "cell_type": "code",
   "execution_count": 66,
   "metadata": {},
   "outputs": [
    {
     "name": "stdout",
     "output_type": "stream",
     "text": [
      "Epoch 1/300\n",
      "700/700 [==============================] - 1s 803us/step - loss: 0.1787 - acc: 0.0014\n",
      "Epoch 2/300\n",
      "700/700 [==============================] - 0s 49us/step - loss: 0.1136 - acc: 0.0014\n",
      "Epoch 3/300\n",
      "700/700 [==============================] - 0s 76us/step - loss: 0.0943 - acc: 0.0014\n",
      "Epoch 4/300\n",
      "700/700 [==============================] - 0s 83us/step - loss: 0.0881 - acc: 0.0014\n",
      "Epoch 5/300\n",
      "700/700 [==============================] - 0s 49us/step - loss: 0.0875 - acc: 0.0014\n",
      "Epoch 6/300\n",
      "700/700 [==============================] - 0s 81us/step - loss: 0.0795 - acc: 0.0000e+00\n",
      "Epoch 7/300\n",
      "700/700 [==============================] - 0s 43us/step - loss: 0.0848 - acc: 0.0000e+00\n",
      "Epoch 8/300\n",
      "700/700 [==============================] - 0s 101us/step - loss: 0.0805 - acc: 0.0000e+00\n",
      "Epoch 9/300\n",
      "700/700 [==============================] - 0s 43us/step - loss: 0.0781 - acc: 0.0000e+00\n",
      "Epoch 10/300\n",
      "700/700 [==============================] - 0s 73us/step - loss: 0.0714 - acc: 0.0000e+00\n",
      "Epoch 11/300\n",
      "700/700 [==============================] - 0s 42us/step - loss: 0.0803 - acc: 0.0000e+00\n",
      "Epoch 12/300\n",
      "700/700 [==============================] - 0s 101us/step - loss: 0.0709 - acc: 0.0000e+00\n",
      "Epoch 13/300\n",
      "700/700 [==============================] - 0s 42us/step - loss: 0.0888 - acc: 0.0000e+00\n",
      "Epoch 14/300\n",
      "700/700 [==============================] - 0s 62us/step - loss: 0.0703 - acc: 0.0000e+00\n",
      "Epoch 15/300\n",
      "700/700 [==============================] - 0s 53us/step - loss: 0.0720 - acc: 0.0000e+00\n",
      "Epoch 16/300\n",
      "700/700 [==============================] - 0s 80us/step - loss: 0.0745 - acc: 0.0000e+00\n",
      "Epoch 17/300\n",
      "700/700 [==============================] - 0s 51us/step - loss: 0.0744 - acc: 0.0000e+00\n",
      "Epoch 18/300\n",
      "700/700 [==============================] - 0s 67us/step - loss: 0.0800 - acc: 0.0000e+00\n",
      "Epoch 19/300\n",
      "700/700 [==============================] - 0s 51us/step - loss: 0.0681 - acc: 0.0000e+00\n",
      "Epoch 20/300\n",
      "700/700 [==============================] - 0s 75us/step - loss: 0.0676 - acc: 0.0000e+00\n",
      "Epoch 21/300\n",
      "700/700 [==============================] - 0s 49us/step - loss: 0.0655 - acc: 0.0000e+00\n",
      "Epoch 22/300\n",
      "700/700 [==============================] - 0s 73us/step - loss: 0.0660 - acc: 0.0000e+00\n",
      "Epoch 23/300\n",
      "700/700 [==============================] - 0s 48us/step - loss: 0.0645 - acc: 0.0000e+00\n",
      "Epoch 24/300\n",
      "700/700 [==============================] - 0s 65us/step - loss: 0.0634 - acc: 0.0000e+00\n",
      "Epoch 25/300\n",
      "700/700 [==============================] - 0s 62us/step - loss: 0.0659 - acc: 0.0000e+00\n",
      "Epoch 26/300\n",
      "700/700 [==============================] - 0s 51us/step - loss: 0.0632 - acc: 0.0000e+00\n",
      "Epoch 27/300\n",
      "700/700 [==============================] - 0s 64us/step - loss: 0.0645 - acc: 0.0000e+00\n",
      "Epoch 28/300\n",
      "700/700 [==============================] - 0s 48us/step - loss: 0.0650 - acc: 0.0000e+00\n",
      "Epoch 29/300\n",
      "700/700 [==============================] - 0s 61us/step - loss: 0.0683 - acc: 0.0000e+00\n",
      "Epoch 30/300\n",
      "700/700 [==============================] - 0s 56us/step - loss: 0.0629 - acc: 0.0000e+00\n",
      "Epoch 31/300\n",
      "700/700 [==============================] - 0s 70us/step - loss: 0.0646 - acc: 0.0000e+00\n",
      "Epoch 32/300\n",
      "700/700 [==============================] - 0s 49us/step - loss: 0.0623 - acc: 0.0000e+00\n",
      "Epoch 33/300\n",
      "700/700 [==============================] - 0s 64us/step - loss: 0.0641 - acc: 0.0000e+00\n",
      "Epoch 34/300\n",
      "700/700 [==============================] - 0s 48us/step - loss: 0.0701 - acc: 0.0000e+00\n",
      "Epoch 35/300\n",
      "700/700 [==============================] - 0s 61us/step - loss: 0.0613 - acc: 0.0000e+00\n",
      "Epoch 36/300\n",
      "700/700 [==============================] - 0s 49us/step - loss: 0.0615 - acc: 0.0000e+00\n",
      "Epoch 37/300\n",
      "700/700 [==============================] - 0s 40us/step - loss: 0.0692 - acc: 0.0000e+00\n",
      "Epoch 38/300\n",
      "700/700 [==============================] - 0s 64us/step - loss: 0.0648 - acc: 0.0000e+00\n",
      "Epoch 39/300\n",
      "700/700 [==============================] - 0s 54us/step - loss: 0.0657 - acc: 0.0000e+00\n",
      "Epoch 40/300\n",
      "700/700 [==============================] - 0s 64us/step - loss: 0.0642 - acc: 0.0000e+00\n",
      "Epoch 41/300\n",
      "700/700 [==============================] - 0s 59us/step - loss: 0.0693 - acc: 0.0000e+00\n",
      "Epoch 42/300\n",
      "700/700 [==============================] - 0s 66us/step - loss: 0.0599 - acc: 0.0000e+00\n",
      "Epoch 43/300\n",
      "700/700 [==============================] - 0s 50us/step - loss: 0.0609 - acc: 0.0000e+00\n",
      "Epoch 44/300\n",
      "700/700 [==============================] - 0s 70us/step - loss: 0.0630 - acc: 0.0000e+00\n",
      "Epoch 45/300\n",
      "700/700 [==============================] - 0s 43us/step - loss: 0.0618 - acc: 0.0000e+00\n",
      "Epoch 46/300\n",
      "700/700 [==============================] - 0s 47us/step - loss: 0.0603 - acc: 0.0000e+00\n",
      "Epoch 47/300\n",
      "700/700 [==============================] - 0s 63us/step - loss: 0.0619 - acc: 0.0000e+00\n",
      "Epoch 48/300\n",
      "700/700 [==============================] - 0s 42us/step - loss: 0.0608 - acc: 0.0000e+00\n",
      "Epoch 49/300\n",
      "700/700 [==============================] - 0s 61us/step - loss: 0.0597 - acc: 0.0000e+00\n",
      "Epoch 50/300\n",
      "700/700 [==============================] - 0s 56us/step - loss: 0.0643 - acc: 0.0000e+00\n",
      "Epoch 51/300\n",
      "700/700 [==============================] - 0s 41us/step - loss: 0.0601 - acc: 0.0000e+00\n",
      "Epoch 52/300\n",
      "700/700 [==============================] - 0s 60us/step - loss: 0.0626 - acc: 0.0000e+00\n",
      "Epoch 53/300\n",
      "700/700 [==============================] - 0s 51us/step - loss: 0.0612 - acc: 0.0000e+00\n",
      "Epoch 54/300\n",
      "700/700 [==============================] - 0s 40us/step - loss: 0.0672 - acc: 0.0000e+00\n",
      "Epoch 55/300\n",
      "700/700 [==============================] - 0s 67us/step - loss: 0.0586 - acc: 0.0000e+00\n",
      "Epoch 56/300\n",
      "700/700 [==============================] - 0s 68us/step - loss: 0.0581 - acc: 0.0000e+00\n",
      "Epoch 57/300\n",
      "700/700 [==============================] - 0s 51us/step - loss: 0.0602 - acc: 0.0000e+00\n",
      "Epoch 58/300\n",
      "700/700 [==============================] - 0s 59us/step - loss: 0.0713 - acc: 0.0000e+00\n",
      "Epoch 59/300\n",
      "700/700 [==============================] - 0s 50us/step - loss: 0.0580 - acc: 0.0000e+00\n",
      "Epoch 60/300\n",
      "700/700 [==============================] - 0s 42us/step - loss: 0.0638 - acc: 0.0000e+00\n",
      "Epoch 61/300\n",
      "700/700 [==============================] - 0s 67us/step - loss: 0.0574 - acc: 0.0000e+00\n",
      "Epoch 62/300\n",
      "700/700 [==============================] - 0s 59us/step - loss: 0.0593 - acc: 0.0000e+00\n",
      "Epoch 63/300\n",
      "700/700 [==============================] - 0s 62us/step - loss: 0.0628 - acc: 0.0000e+00\n",
      "Epoch 64/300\n",
      "700/700 [==============================] - 0s 57us/step - loss: 0.0632 - acc: 0.0000e+00\n",
      "Epoch 65/300\n",
      "700/700 [==============================] - 0s 64us/step - loss: 0.0591 - acc: 0.0000e+00\n",
      "Epoch 66/300\n",
      "700/700 [==============================] - 0s 59us/step - loss: 0.0598 - acc: 0.0000e+00\n",
      "Epoch 67/300\n",
      "700/700 [==============================] - 0s 55us/step - loss: 0.0575 - acc: 0.0000e+00\n",
      "Epoch 68/300\n",
      "700/700 [==============================] - 0s 63us/step - loss: 0.0580 - acc: 0.0000e+00\n",
      "Epoch 69/300\n",
      "700/700 [==============================] - 0s 53us/step - loss: 0.0566 - acc: 0.0000e+00\n",
      "Epoch 70/300\n",
      "700/700 [==============================] - 0s 54us/step - loss: 0.0604 - acc: 0.0000e+00\n",
      "Epoch 71/300\n",
      "700/700 [==============================] - 0s 56us/step - loss: 0.0627 - acc: 0.0000e+00\n",
      "Epoch 72/300\n",
      "700/700 [==============================] - ETA: 0s - loss: 0.0532 - acc: 0.0000e+0 - 0s 47us/step - loss: 0.0663 - acc: 0.0000e+00\n",
      "Epoch 73/300\n",
      "700/700 [==============================] - 0s 47us/step - loss: 0.0610 - acc: 0.0000e+00\n",
      "Epoch 74/300\n",
      "700/700 [==============================] - 0s 54us/step - loss: 0.0572 - acc: 0.0000e+00\n",
      "Epoch 75/300\n",
      "700/700 [==============================] - 0s 42us/step - loss: 0.0565 - acc: 0.0000e+00\n",
      "Epoch 76/300\n",
      "700/700 [==============================] - 0s 59us/step - loss: 0.0556 - acc: 0.0000e+00\n",
      "Epoch 77/300\n",
      "700/700 [==============================] - 0s 60us/step - loss: 0.0567 - acc: 0.0000e+00\n",
      "Epoch 78/300\n",
      "700/700 [==============================] - 0s 52us/step - loss: 0.0554 - acc: 0.0000e+00\n",
      "Epoch 79/300\n",
      "700/700 [==============================] - 0s 62us/step - loss: 0.0566 - acc: 0.0000e+00\n",
      "Epoch 80/300\n",
      "700/700 [==============================] - 0s 64us/step - loss: 0.0561 - acc: 0.0000e+00\n",
      "Epoch 81/300\n"
     ]
    },
    {
     "name": "stdout",
     "output_type": "stream",
     "text": [
      "700/700 [==============================] - 0s 52us/step - loss: 0.0549 - acc: 0.0000e+00\n",
      "Epoch 82/300\n",
      "700/700 [==============================] - 0s 57us/step - loss: 0.0546 - acc: 0.0000e+00\n",
      "Epoch 83/300\n",
      "700/700 [==============================] - 0s 44us/step - loss: 0.0571 - acc: 0.0000e+00\n",
      "Epoch 84/300\n",
      "700/700 [==============================] - 0s 67us/step - loss: 0.0579 - acc: 0.0000e+00\n",
      "Epoch 85/300\n",
      "700/700 [==============================] - 0s 59us/step - loss: 0.0594 - acc: 0.0000e+00\n",
      "Epoch 86/300\n",
      "700/700 [==============================] - 0s 63us/step - loss: 0.0601 - acc: 0.0000e+00\n",
      "Epoch 87/300\n",
      "700/700 [==============================] - 0s 61us/step - loss: 0.0548 - acc: 0.0000e+00\n",
      "Epoch 88/300\n",
      "700/700 [==============================] - 0s 73us/step - loss: 0.0605 - acc: 0.0000e+00\n",
      "Epoch 89/300\n",
      "700/700 [==============================] - 0s 63us/step - loss: 0.0612 - acc: 0.0000e+00\n",
      "Epoch 90/300\n",
      "700/700 [==============================] - 0s 57us/step - loss: 0.0611 - acc: 0.0000e+00\n",
      "Epoch 91/300\n",
      "700/700 [==============================] - 0s 60us/step - loss: 0.0541 - acc: 0.0000e+00\n",
      "Epoch 92/300\n",
      "700/700 [==============================] - 0s 68us/step - loss: 0.0547 - acc: 0.0000e+00\n",
      "Epoch 93/300\n",
      "700/700 [==============================] - 0s 62us/step - loss: 0.0535 - acc: 0.0000e+00\n",
      "Epoch 94/300\n",
      "700/700 [==============================] - 0s 70us/step - loss: 0.0535 - acc: 0.0000e+00\n",
      "Epoch 95/300\n",
      "700/700 [==============================] - 0s 70us/step - loss: 0.0528 - acc: 0.0000e+00\n",
      "Epoch 96/300\n",
      "700/700 [==============================] - 0s 60us/step - loss: 0.0572 - acc: 0.0000e+00\n",
      "Epoch 97/300\n",
      "700/700 [==============================] - 0s 56us/step - loss: 0.0554 - acc: 0.0000e+00\n",
      "Epoch 98/300\n",
      "700/700 [==============================] - 0s 56us/step - loss: 0.0542 - acc: 0.0000e+00\n",
      "Epoch 99/300\n",
      "700/700 [==============================] - 0s 52us/step - loss: 0.0621 - acc: 0.0000e+00\n",
      "Epoch 100/300\n",
      "700/700 [==============================] - 0s 56us/step - loss: 0.0542 - acc: 0.0000e+00\n",
      "Epoch 101/300\n",
      "700/700 [==============================] - 0s 52us/step - loss: 0.0543 - acc: 0.0000e+00\n",
      "Epoch 102/300\n",
      "700/700 [==============================] - 0s 56us/step - loss: 0.0519 - acc: 0.0000e+00\n",
      "Epoch 103/300\n",
      "700/700 [==============================] - 0s 67us/step - loss: 0.0528 - acc: 0.0000e+00\n",
      "Epoch 104/300\n",
      "700/700 [==============================] - ETA: 0s - loss: 0.0545 - acc: 0.0000e+0 - 0s 86us/step - loss: 0.0545 - acc: 0.0000e+00\n",
      "Epoch 105/300\n",
      "700/700 [==============================] - 0s 67us/step - loss: 0.0635 - acc: 0.0000e+00\n",
      "Epoch 106/300\n",
      "700/700 [==============================] - 0s 67us/step - loss: 0.0549 - acc: 0.0000e+00\n",
      "Epoch 107/300\n",
      "700/700 [==============================] - 0s 64us/step - loss: 0.0513 - acc: 0.0000e+00\n",
      "Epoch 108/300\n",
      "700/700 [==============================] - 0s 58us/step - loss: 0.0520 - acc: 0.0000e+00\n",
      "Epoch 109/300\n",
      "700/700 [==============================] - 0s 63us/step - loss: 0.0508 - acc: 0.0000e+00\n",
      "Epoch 110/300\n",
      "700/700 [==============================] - 0s 58us/step - loss: 0.0515 - acc: 0.0000e+00\n",
      "Epoch 111/300\n",
      "700/700 [==============================] - 0s 63us/step - loss: 0.0506 - acc: 0.0000e+00\n",
      "Epoch 112/300\n",
      "700/700 [==============================] - 0s 52us/step - loss: 0.0499 - acc: 0.0000e+00\n",
      "Epoch 113/300\n",
      "700/700 [==============================] - 0s 58us/step - loss: 0.0512 - acc: 0.0000e+00\n",
      "Epoch 114/300\n",
      "700/700 [==============================] - 0s 50us/step - loss: 0.0497 - acc: 0.0000e+00\n",
      "Epoch 115/300\n",
      "700/700 [==============================] - 0s 50us/step - loss: 0.0487 - acc: 0.0000e+00\n",
      "Epoch 116/300\n",
      "700/700 [==============================] - 0s 58us/step - loss: 0.0490 - acc: 0.0000e+00\n",
      "Epoch 117/300\n",
      "700/700 [==============================] - 0s 57us/step - loss: 0.0486 - acc: 0.0000e+00\n",
      "Epoch 118/300\n",
      "700/700 [==============================] - 0s 52us/step - loss: 0.0493 - acc: 0.0000e+00\n",
      "Epoch 119/300\n",
      "700/700 [==============================] - 0s 48us/step - loss: 0.0494 - acc: 0.0000e+00\n",
      "Epoch 120/300\n",
      "700/700 [==============================] - 0s 53us/step - loss: 0.0502 - acc: 0.0000e+00\n",
      "Epoch 121/300\n",
      "700/700 [==============================] - 0s 55us/step - loss: 0.0484 - acc: 0.0000e+00\n",
      "Epoch 122/300\n",
      "700/700 [==============================] - 0s 49us/step - loss: 0.0489 - acc: 0.0000e+00\n",
      "Epoch 123/300\n",
      "700/700 [==============================] - 0s 53us/step - loss: 0.0488 - acc: 0.0000e+00\n",
      "Epoch 124/300\n",
      "700/700 [==============================] - 0s 57us/step - loss: 0.0536 - acc: 0.0000e+00\n",
      "Epoch 125/300\n",
      "700/700 [==============================] - 0s 50us/step - loss: 0.0541 - acc: 0.0000e+00\n",
      "Epoch 126/300\n",
      "700/700 [==============================] - 0s 60us/step - loss: 0.0515 - acc: 0.0000e+00\n",
      "Epoch 127/300\n",
      "700/700 [==============================] - 0s 49us/step - loss: 0.0483 - acc: 0.0000e+00\n",
      "Epoch 128/300\n",
      "700/700 [==============================] - 0s 71us/step - loss: 0.0491 - acc: 0.0000e+00\n",
      "Epoch 129/300\n",
      "700/700 [==============================] - 0s 73us/step - loss: 0.0495 - acc: 0.0000e+00\n",
      "Epoch 130/300\n",
      "700/700 [==============================] - 0s 61us/step - loss: 0.0491 - acc: 0.0000e+00\n",
      "Epoch 131/300\n",
      "700/700 [==============================] - 0s 60us/step - loss: 0.0497 - acc: 0.0000e+00\n",
      "Epoch 132/300\n",
      "700/700 [==============================] - 0s 102us/step - loss: 0.0546 - acc: 0.0000e+00\n",
      "Epoch 133/300\n",
      "700/700 [==============================] - 0s 67us/step - loss: 0.0474 - acc: 0.0000e+00\n",
      "Epoch 134/300\n",
      "700/700 [==============================] - 0s 67us/step - loss: 0.0473 - acc: 0.0000e+00\n",
      "Epoch 135/300\n",
      "700/700 [==============================] - 0s 75us/step - loss: 0.0493 - acc: 0.0000e+00\n",
      "Epoch 136/300\n",
      "700/700 [==============================] - 0s 74us/step - loss: 0.0467 - acc: 0.0000e+00\n",
      "Epoch 137/300\n",
      "700/700 [==============================] - 0s 62us/step - loss: 0.0501 - acc: 0.0000e+00\n",
      "Epoch 138/300\n",
      "700/700 [==============================] - 0s 72us/step - loss: 0.0466 - acc: 0.0000e+00\n",
      "Epoch 139/300\n",
      "700/700 [==============================] - 0s 62us/step - loss: 0.0475 - acc: 0.0000e+00\n",
      "Epoch 140/300\n",
      "700/700 [==============================] - 0s 60us/step - loss: 0.0504 - acc: 0.0000e+00\n",
      "Epoch 141/300\n",
      "700/700 [==============================] - 0s 57us/step - loss: 0.0441 - acc: 0.0000e+00\n",
      "Epoch 142/300\n",
      "700/700 [==============================] - 0s 59us/step - loss: 0.0433 - acc: 0.0000e+00\n",
      "Epoch 143/300\n",
      "700/700 [==============================] - 0s 73us/step - loss: 0.0478 - acc: 0.0000e+00\n",
      "Epoch 144/300\n",
      "700/700 [==============================] - 0s 65us/step - loss: 0.0435 - acc: 0.0000e+00\n",
      "Epoch 145/300\n",
      "700/700 [==============================] - 0s 67us/step - loss: 0.0452 - acc: 0.0000e+00\n",
      "Epoch 146/300\n",
      "700/700 [==============================] - 0s 77us/step - loss: 0.0436 - acc: 0.0000e+00\n",
      "Epoch 147/300\n",
      "700/700 [==============================] - 0s 86us/step - loss: 0.0433 - acc: 0.0000e+00\n",
      "Epoch 148/300\n",
      "700/700 [==============================] - 0s 70us/step - loss: 0.0417 - acc: 0.0000e+00\n",
      "Epoch 149/300\n",
      "700/700 [==============================] - 0s 69us/step - loss: 0.0436 - acc: 0.0000e+00\n",
      "Epoch 150/300\n",
      "700/700 [==============================] - 0s 77us/step - loss: 0.0414 - acc: 0.0000e+00\n",
      "Epoch 151/300\n",
      "700/700 [==============================] - 0s 66us/step - loss: 0.0463 - acc: 0.0000e+00\n",
      "Epoch 152/300\n",
      "700/700 [==============================] - 0s 72us/step - loss: 0.0420 - acc: 0.0000e+00\n",
      "Epoch 153/300\n",
      "700/700 [==============================] - 0s 74us/step - loss: 0.0420 - acc: 0.0000e+00\n",
      "Epoch 154/300\n",
      "700/700 [==============================] - 0s 69us/step - loss: 0.0454 - acc: 0.0000e+00\n",
      "Epoch 155/300\n",
      "700/700 [==============================] - 0s 57us/step - loss: 0.0432 - acc: 0.0000e+00\n",
      "Epoch 156/300\n",
      "700/700 [==============================] - 0s 67us/step - loss: 0.0424 - acc: 0.0000e+00\n",
      "Epoch 157/300\n",
      "700/700 [==============================] - 0s 50us/step - loss: 0.0434 - acc: 0.0000e+00\n",
      "Epoch 158/300\n",
      "700/700 [==============================] - 0s 74us/step - loss: 0.0406 - acc: 0.0000e+00\n",
      "Epoch 159/300\n",
      "700/700 [==============================] - 0s 83us/step - loss: 0.0398 - acc: 0.0000e+00\n",
      "Epoch 160/300\n"
     ]
    },
    {
     "name": "stdout",
     "output_type": "stream",
     "text": [
      "700/700 [==============================] - 0s 72us/step - loss: 0.0452 - acc: 0.0000e+00\n",
      "Epoch 161/300\n",
      "700/700 [==============================] - 0s 54us/step - loss: 0.0414 - acc: 0.0000e+00\n",
      "Epoch 162/300\n",
      "700/700 [==============================] - 0s 63us/step - loss: 0.0394 - acc: 0.0000e+00\n",
      "Epoch 163/300\n",
      "700/700 [==============================] - 0s 46us/step - loss: 0.0390 - acc: 0.0000e+00\n",
      "Epoch 164/300\n",
      "700/700 [==============================] - 0s 72us/step - loss: 0.0418 - acc: 0.0000e+00\n",
      "Epoch 165/300\n",
      "700/700 [==============================] - 0s 52us/step - loss: 0.0426 - acc: 0.0000e+00\n",
      "Epoch 166/300\n",
      "700/700 [==============================] - 0s 50us/step - loss: 0.0388 - acc: 0.0000e+00\n",
      "Epoch 167/300\n",
      "700/700 [==============================] - 0s 66us/step - loss: 0.0409 - acc: 0.0000e+00\n",
      "Epoch 168/300\n",
      "700/700 [==============================] - 0s 58us/step - loss: 0.0416 - acc: 0.0000e+00\n",
      "Epoch 169/300\n",
      "700/700 [==============================] - 0s 50us/step - loss: 0.0371 - acc: 0.0000e+00\n",
      "Epoch 170/300\n",
      "700/700 [==============================] - 0s 51us/step - loss: 0.0429 - acc: 0.0000e+00\n",
      "Epoch 171/300\n",
      "700/700 [==============================] - 0s 54us/step - loss: 0.0377 - acc: 0.0000e+00\n",
      "Epoch 172/300\n",
      "700/700 [==============================] - 0s 50us/step - loss: 0.0397 - acc: 0.0000e+00\n",
      "Epoch 173/300\n",
      "700/700 [==============================] - 0s 66us/step - loss: 0.0403 - acc: 0.0000e+00\n",
      "Epoch 174/300\n",
      "700/700 [==============================] - 0s 52us/step - loss: 0.0379 - acc: 0.0000e+00\n",
      "Epoch 175/300\n",
      "700/700 [==============================] - 0s 60us/step - loss: 0.0491 - acc: 0.0000e+00\n",
      "Epoch 176/300\n",
      "700/700 [==============================] - 0s 53us/step - loss: 0.0436 - acc: 0.0000e+00\n",
      "Epoch 177/300\n",
      "700/700 [==============================] - 0s 51us/step - loss: 0.0349 - acc: 0.0000e+00\n",
      "Epoch 178/300\n",
      "700/700 [==============================] - 0s 52us/step - loss: 0.0340 - acc: 0.0000e+00\n",
      "Epoch 179/300\n",
      "700/700 [==============================] - 0s 55us/step - loss: 0.0362 - acc: 0.0000e+00\n",
      "Epoch 180/300\n",
      "700/700 [==============================] - 0s 57us/step - loss: 0.0399 - acc: 0.0000e+00\n",
      "Epoch 181/300\n",
      "700/700 [==============================] - 0s 54us/step - loss: 0.0355 - acc: 0.0000e+00\n",
      "Epoch 182/300\n",
      "700/700 [==============================] - 0s 53us/step - loss: 0.0475 - acc: 0.0000e+00\n",
      "Epoch 183/300\n",
      "700/700 [==============================] - 0s 61us/step - loss: 0.0478 - acc: 0.0000e+00\n",
      "Epoch 184/300\n",
      "700/700 [==============================] - 0s 55us/step - loss: 0.0363 - acc: 0.0000e+00\n",
      "Epoch 185/300\n",
      "700/700 [==============================] - 0s 48us/step - loss: 0.0329 - acc: 0.0000e+00\n",
      "Epoch 186/300\n",
      "700/700 [==============================] - 0s 61us/step - loss: 0.0313 - acc: 0.0000e+00\n",
      "Epoch 187/300\n",
      "700/700 [==============================] - 0s 54us/step - loss: 0.0330 - acc: 0.0000e+00\n",
      "Epoch 188/300\n",
      "700/700 [==============================] - 0s 60us/step - loss: 0.0349 - acc: 0.0000e+00\n",
      "Epoch 189/300\n",
      "700/700 [==============================] - 0s 58us/step - loss: 0.0331 - acc: 0.0000e+00\n",
      "Epoch 190/300\n",
      "700/700 [==============================] - 0s 57us/step - loss: 0.0313 - acc: 0.0000e+00\n",
      "Epoch 191/300\n",
      "700/700 [==============================] - 0s 56us/step - loss: 0.0334 - acc: 0.0000e+00\n",
      "Epoch 192/300\n",
      "700/700 [==============================] - 0s 59us/step - loss: 0.0308 - acc: 0.0000e+00\n",
      "Epoch 193/300\n",
      "700/700 [==============================] - 0s 63us/step - loss: 0.0323 - acc: 0.0000e+00\n",
      "Epoch 194/300\n",
      "700/700 [==============================] - 0s 71us/step - loss: 0.0364 - acc: 0.0000e+00\n",
      "Epoch 195/300\n",
      "700/700 [==============================] - 0s 56us/step - loss: 0.0294 - acc: 0.0000e+00\n",
      "Epoch 196/300\n",
      "700/700 [==============================] - 0s 58us/step - loss: 0.0301 - acc: 0.0000e+00\n",
      "Epoch 197/300\n",
      "700/700 [==============================] - 0s 56us/step - loss: 0.0287 - acc: 0.0000e+00\n",
      "Epoch 198/300\n",
      "700/700 [==============================] - 0s 57us/step - loss: 0.0295 - acc: 0.0000e+00\n",
      "Epoch 199/300\n",
      "700/700 [==============================] - 0s 52us/step - loss: 0.0332 - acc: 0.0000e+00\n",
      "Epoch 200/300\n",
      "700/700 [==============================] - 0s 49us/step - loss: 0.0308 - acc: 0.0000e+00\n",
      "Epoch 201/300\n",
      "700/700 [==============================] - 0s 52us/step - loss: 0.0275 - acc: 0.0000e+00\n",
      "Epoch 202/300\n",
      "700/700 [==============================] - 0s 48us/step - loss: 0.0289 - acc: 0.0000e+00\n",
      "Epoch 203/300\n",
      "700/700 [==============================] - 0s 47us/step - loss: 0.0283 - acc: 0.0000e+00\n",
      "Epoch 204/300\n",
      "700/700 [==============================] - 0s 51us/step - loss: 0.0324 - acc: 0.0000e+00\n",
      "Epoch 205/300\n",
      "700/700 [==============================] - 0s 50us/step - loss: 0.0317 - acc: 0.0000e+00\n",
      "Epoch 206/300\n",
      "700/700 [==============================] - 0s 48us/step - loss: 0.0274 - acc: 0.0000e+00\n",
      "Epoch 207/300\n",
      "700/700 [==============================] - 0s 50us/step - loss: 0.0268 - acc: 0.0000e+00\n",
      "Epoch 208/300\n",
      "700/700 [==============================] - 0s 50us/step - loss: 0.0288 - acc: 0.0000e+00\n",
      "Epoch 209/300\n",
      "700/700 [==============================] - 0s 48us/step - loss: 0.0299 - acc: 0.0000e+00\n",
      "Epoch 210/300\n",
      "700/700 [==============================] - 0s 48us/step - loss: 0.0261 - acc: 0.0000e+00\n",
      "Epoch 211/300\n",
      "700/700 [==============================] - 0s 50us/step - loss: 0.0283 - acc: 0.0000e+00\n",
      "Epoch 212/300\n",
      "700/700 [==============================] - 0s 47us/step - loss: 0.0290 - acc: 0.0000e+00\n",
      "Epoch 213/300\n",
      "700/700 [==============================] - 0s 48us/step - loss: 0.0298 - acc: 0.0000e+00\n",
      "Epoch 214/300\n",
      "700/700 [==============================] - 0s 52us/step - loss: 0.0282 - acc: 0.0000e+00\n",
      "Epoch 215/300\n",
      "700/700 [==============================] - 0s 56us/step - loss: 0.0284 - acc: 0.0000e+00\n",
      "Epoch 216/300\n",
      "700/700 [==============================] - 0s 50us/step - loss: 0.0272 - acc: 0.0000e+00\n",
      "Epoch 217/300\n",
      "700/700 [==============================] - 0s 56us/step - loss: 0.0258 - acc: 0.0000e+00\n",
      "Epoch 218/300\n",
      "700/700 [==============================] - 0s 66us/step - loss: 0.0421 - acc: 0.0000e+00\n",
      "Epoch 219/300\n",
      "700/700 [==============================] - 0s 50us/step - loss: 0.0325 - acc: 0.0000e+00\n",
      "Epoch 220/300\n",
      "700/700 [==============================] - 0s 55us/step - loss: 0.0296 - acc: 0.0000e+00\n",
      "Epoch 221/300\n",
      "700/700 [==============================] - 0s 57us/step - loss: 0.0286 - acc: 0.0000e+00\n",
      "Epoch 222/300\n",
      "700/700 [==============================] - 0s 54us/step - loss: 0.0345 - acc: 0.0000e+00\n",
      "Epoch 223/300\n",
      "700/700 [==============================] - 0s 44us/step - loss: 0.0249 - acc: 0.0000e+00\n",
      "Epoch 224/300\n",
      "700/700 [==============================] - 0s 51us/step - loss: 0.0239 - acc: 0.0000e+00\n",
      "Epoch 225/300\n",
      "700/700 [==============================] - 0s 46us/step - loss: 0.0258 - acc: 0.0014\n",
      "Epoch 226/300\n",
      "700/700 [==============================] - 0s 49us/step - loss: 0.0310 - acc: 0.0000e+00\n",
      "Epoch 227/300\n",
      "700/700 [==============================] - 0s 55us/step - loss: 0.0264 - acc: 0.0000e+00\n",
      "Epoch 228/300\n",
      "700/700 [==============================] - 0s 49us/step - loss: 0.0257 - acc: 0.0000e+00\n",
      "Epoch 229/300\n",
      "700/700 [==============================] - 0s 44us/step - loss: 0.0249 - acc: 0.0014\n",
      "Epoch 230/300\n",
      "700/700 [==============================] - 0s 53us/step - loss: 0.0309 - acc: 0.0014\n",
      "Epoch 231/300\n",
      "700/700 [==============================] - 0s 44us/step - loss: 0.0285 - acc: 0.0014\n",
      "Epoch 232/300\n",
      "700/700 [==============================] - 0s 51us/step - loss: 0.0231 - acc: 0.0000e+00\n",
      "Epoch 233/300\n",
      "700/700 [==============================] - 0s 50us/step - loss: 0.0239 - acc: 0.0014\n",
      "Epoch 234/300\n",
      "700/700 [==============================] - 0s 52us/step - loss: 0.0283 - acc: 0.0014\n",
      "Epoch 235/300\n",
      "700/700 [==============================] - 0s 49us/step - loss: 0.0291 - acc: 0.0014\n",
      "Epoch 236/300\n",
      "700/700 [==============================] - 0s 53us/step - loss: 0.0289 - acc: 0.0014\n",
      "Epoch 237/300\n",
      "700/700 [==============================] - 0s 48us/step - loss: 0.0243 - acc: 0.0014\n",
      "Epoch 238/300\n",
      "700/700 [==============================] - 0s 52us/step - loss: 0.0239 - acc: 0.0014\n",
      "Epoch 239/300\n",
      "700/700 [==============================] - 0s 49us/step - loss: 0.0255 - acc: 0.0014\n",
      "Epoch 240/300\n"
     ]
    },
    {
     "name": "stdout",
     "output_type": "stream",
     "text": [
      "700/700 [==============================] - 0s 55us/step - loss: 0.0375 - acc: 0.0014\n",
      "Epoch 241/300\n",
      "700/700 [==============================] - 0s 53us/step - loss: 0.0257 - acc: 0.0014\n",
      "Epoch 242/300\n",
      "700/700 [==============================] - 0s 54us/step - loss: 0.0238 - acc: 0.0014\n",
      "Epoch 243/300\n",
      "700/700 [==============================] - 0s 56us/step - loss: 0.0317 - acc: 0.0014\n",
      "Epoch 244/300\n",
      "700/700 [==============================] - 0s 89us/step - loss: 0.0269 - acc: 0.0014\n",
      "Epoch 245/300\n",
      "700/700 [==============================] - 0s 72us/step - loss: 0.0235 - acc: 0.0014\n",
      "Epoch 246/300\n",
      "700/700 [==============================] - 0s 52us/step - loss: 0.0271 - acc: 0.0014\n",
      "Epoch 247/300\n",
      "700/700 [==============================] - 0s 100us/step - loss: 0.0252 - acc: 0.0014\n",
      "Epoch 248/300\n",
      "700/700 [==============================] - 0s 59us/step - loss: 0.0245 - acc: 0.0014\n",
      "Epoch 249/300\n",
      "700/700 [==============================] - 0s 61us/step - loss: 0.0219 - acc: 0.0014\n",
      "Epoch 250/300\n",
      "700/700 [==============================] - 0s 68us/step - loss: 0.0233 - acc: 0.0014\n",
      "Epoch 251/300\n",
      "700/700 [==============================] - ETA: 0s - loss: 0.0230 - acc: 0.0015    - 0s 81us/step - loss: 0.0235 - acc: 0.0014\n",
      "Epoch 252/300\n",
      "700/700 [==============================] - 0s 52us/step - loss: 0.0215 - acc: 0.0014\n",
      "Epoch 253/300\n",
      "700/700 [==============================] - 0s 82us/step - loss: 0.0242 - acc: 0.0014\n",
      "Epoch 254/300\n",
      "700/700 [==============================] - 0s 65us/step - loss: 0.0226 - acc: 0.0014\n",
      "Epoch 255/300\n",
      "700/700 [==============================] - 0s 63us/step - loss: 0.0226 - acc: 0.0014\n",
      "Epoch 256/300\n",
      "700/700 [==============================] - 0s 52us/step - loss: 0.0214 - acc: 0.0014\n",
      "Epoch 257/300\n",
      "700/700 [==============================] - 0s 59us/step - loss: 0.0247 - acc: 0.0014\n",
      "Epoch 258/300\n",
      "700/700 [==============================] - 0s 52us/step - loss: 0.0235 - acc: 0.0014\n",
      "Epoch 259/300\n",
      "700/700 [==============================] - 0s 62us/step - loss: 0.0215 - acc: 0.0014\n",
      "Epoch 260/300\n",
      "700/700 [==============================] - 0s 59us/step - loss: 0.0209 - acc: 0.0014\n",
      "Epoch 261/300\n",
      "700/700 [==============================] - 0s 59us/step - loss: 0.0223 - acc: 0.0014\n",
      "Epoch 262/300\n",
      "700/700 [==============================] - 0s 55us/step - loss: 0.0204 - acc: 0.0014\n",
      "Epoch 263/300\n",
      "700/700 [==============================] - 0s 55us/step - loss: 0.0227 - acc: 0.0014\n",
      "Epoch 264/300\n",
      "700/700 [==============================] - 0s 54us/step - loss: 0.0229 - acc: 0.0014\n",
      "Epoch 265/300\n",
      "700/700 [==============================] - 0s 69us/step - loss: 0.0238 - acc: 0.0014\n",
      "Epoch 266/300\n",
      "700/700 [==============================] - 0s 83us/step - loss: 0.0213 - acc: 0.0014\n",
      "Epoch 267/300\n",
      "700/700 [==============================] - 0s 59us/step - loss: 0.0243 - acc: 0.0014\n",
      "Epoch 268/300\n",
      "700/700 [==============================] - 0s 61us/step - loss: 0.0223 - acc: 0.0014\n",
      "Epoch 269/300\n",
      "700/700 [==============================] - 0s 59us/step - loss: 0.0199 - acc: 0.0014\n",
      "Epoch 270/300\n",
      "700/700 [==============================] - 0s 58us/step - loss: 0.0229 - acc: 0.0014\n",
      "Epoch 271/300\n",
      "700/700 [==============================] - 0s 60us/step - loss: 0.0253 - acc: 0.0014\n",
      "Epoch 272/300\n",
      "700/700 [==============================] - 0s 58us/step - loss: 0.0202 - acc: 0.0014\n",
      "Epoch 273/300\n",
      "700/700 [==============================] - 0s 58us/step - loss: 0.0194 - acc: 0.0014\n",
      "Epoch 274/300\n",
      "700/700 [==============================] - 0s 57us/step - loss: 0.0209 - acc: 0.0014\n",
      "Epoch 275/300\n",
      "700/700 [==============================] - 0s 66us/step - loss: 0.0209 - acc: 0.0014\n",
      "Epoch 276/300\n",
      "700/700 [==============================] - 0s 51us/step - loss: 0.0231 - acc: 0.0014\n",
      "Epoch 277/300\n",
      "700/700 [==============================] - 0s 58us/step - loss: 0.0209 - acc: 0.0014\n",
      "Epoch 278/300\n",
      "700/700 [==============================] - 0s 59us/step - loss: 0.0214 - acc: 0.0014\n",
      "Epoch 279/300\n",
      "700/700 [==============================] - 0s 62us/step - loss: 0.0259 - acc: 0.0014\n",
      "Epoch 280/300\n",
      "700/700 [==============================] - 0s 58us/step - loss: 0.0220 - acc: 0.0014\n",
      "Epoch 281/300\n",
      "700/700 [==============================] - 0s 57us/step - loss: 0.0266 - acc: 0.0014\n",
      "Epoch 282/300\n",
      "700/700 [==============================] - 0s 59us/step - loss: 0.0188 - acc: 0.0014\n",
      "Epoch 283/300\n",
      "700/700 [==============================] - 0s 56us/step - loss: 0.0188 - acc: 0.0014\n",
      "Epoch 284/300\n",
      "700/700 [==============================] - 0s 57us/step - loss: 0.0195 - acc: 0.0014\n",
      "Epoch 285/300\n",
      "700/700 [==============================] - 0s 57us/step - loss: 0.0201 - acc: 0.0014\n",
      "Epoch 286/300\n",
      "700/700 [==============================] - 0s 60us/step - loss: 0.0201 - acc: 0.0014\n",
      "Epoch 287/300\n",
      "700/700 [==============================] - 0s 56us/step - loss: 0.0204 - acc: 0.0014\n",
      "Epoch 288/300\n",
      "700/700 [==============================] - 0s 59us/step - loss: 0.0215 - acc: 0.0014\n",
      "Epoch 289/300\n",
      "700/700 [==============================] - 0s 63us/step - loss: 0.0226 - acc: 0.0014\n",
      "Epoch 290/300\n",
      "700/700 [==============================] - 0s 61us/step - loss: 0.0192 - acc: 0.0014\n",
      "Epoch 291/300\n",
      "700/700 [==============================] - 0s 54us/step - loss: 0.0193 - acc: 0.0014\n",
      "Epoch 292/300\n",
      "700/700 [==============================] - 0s 61us/step - loss: 0.0209 - acc: 0.0014\n",
      "Epoch 293/300\n",
      "700/700 [==============================] - 0s 51us/step - loss: 0.0205 - acc: 0.0014\n",
      "Epoch 294/300\n",
      "700/700 [==============================] - 0s 54us/step - loss: 0.0199 - acc: 0.0014\n",
      "Epoch 295/300\n",
      "700/700 [==============================] - 0s 52us/step - loss: 0.0210 - acc: 0.0014\n",
      "Epoch 296/300\n",
      "700/700 [==============================] - 0s 52us/step - loss: 0.0200 - acc: 0.0014\n",
      "Epoch 297/300\n",
      "700/700 [==============================] - 0s 51us/step - loss: 0.0205 - acc: 0.0014\n",
      "Epoch 298/300\n",
      "700/700 [==============================] - 0s 54us/step - loss: 0.0224 - acc: 0.0014\n",
      "Epoch 299/300\n",
      "700/700 [==============================] - 0s 53us/step - loss: 0.0188 - acc: 0.0014\n",
      "Epoch 300/300\n",
      "700/700 [==============================] - 0s 45us/step - loss: 0.0191 - acc: 0.0014\n"
     ]
    },
    {
     "data": {
      "text/plain": [
       "<keras.callbacks.History at 0x12b3d6390>"
      ]
     },
     "execution_count": 66,
     "metadata": {},
     "output_type": "execute_result"
    }
   ],
   "source": [
    "# fit the model\n",
    "model.fit(X_train,Y_train, epochs=300)"
   ]
  },
  {
   "cell_type": "code",
   "execution_count": 64,
   "metadata": {},
   "outputs": [
    {
     "data": {
      "image/png": "[encoded data removed]",
      "text/plain": [
       "<matplotlib.figure.Figure at 0x12ccaddd8>"
      ]
     },
     "metadata": {},
     "output_type": "display_data"
    }
   ],
   "source": [
    "# use our model to predict in the range we want\n",
    "X_range = np.linspace(0, 50, 500)\n",
    "y_pred = model.predict(X_range)\n",
    "\n",
    "# we plot the model (degree 4 polynomial) against the data\n",
    "fig, ax = plt.subplots()\n",
    "ax.scatter(X_train, Y_train, label='Training data')\n",
    "ax.plot(X_range, y_pred, color='r', label='MLP with one hidden layer')\n",
    "ax.legend(loc='best')\n",
    "ax.set(xlabel='X', ylabel='Y', title='Toy regression data set')\n",
    "plt.show()"
   ]
  },
  {
   "cell_type": "code",
   "execution_count": 61,
   "metadata": {},
   "outputs": [
    {
     "name": "stdout",
     "output_type": "stream",
     "text": [
      "Train loss: [0.11948514699935914, 0.0]\n",
      "Train R2: -0.01693619620689102\n"
     ]
    }
   ],
   "source": [
    "# evaluate the training and testing performance of your model \n",
    "# note: you should extract check both the loss function and your evaluation metric\n",
    "score = model.evaluate(X_train, Y_train, verbose=0)\n",
    "print('Train loss:', score)\n",
    "print('Train R2:', r2(Y_train, model.predict(X_train)))"
   ]
  },
  {
   "cell_type": "code",
   "execution_count": 62,
   "metadata": {},
   "outputs": [
    {
     "name": "stdout",
     "output_type": "stream",
     "text": [
      "Test loss: [0.11803353786468505, 0.0]\n",
      "Train R2: 0.04426876127104151\n"
     ]
    }
   ],
   "source": [
    "score = model.evaluate(X_test, Y_test, verbose=0)\n",
    "print('Test loss:', score)\n",
    "print('Train R2:', r2(Y_test, model.predict(X_test)))"
   ]
  },
  {
   "cell_type": "code",
   "execution_count": null,
   "metadata": {
    "collapsed": true
   },
   "outputs": [],
   "source": [
    "# Plot the train/test performace against the number of hidden nodes, H\n",
    "input_dim = 1\n",
    "\n",
    "for H in [100, 200, 300, 400, 500]:\n",
    "    model = Sequential()\n",
    "    model.add(Dense(H, input_shape = (input_dim,)))\n",
    "    model.add(Dense(1, activation='softplus'))\n",
    "    model.compile(optimizer='adam',\n",
    "                  loss='mean_squared_error',\n",
    "                  metrics=['accuracy'])"
   ]
  },
  {
   "cell_type": "markdown",
   "metadata": {},
   "source": [
    "Now fix a width $H$ and let's fit a MLP network with **multiple** hidden layers, each with the same width. Start with sigmoid or hyperbolic-tan activation functions for the hidden nodes and linear activation for the output. \n",
    "\n",
    "\n",
    "***Experiment with the number of layers and observe the effect of this on the quality of the fit.***  You want to think about issues like computational effeciency and generalizability of this type of modeling. You want to compare the MLP to your polynomial model as well as to the model with a single hidden layer (in terms of quality of fit, efficiency and generalizability)."
   ]
  },
  {
   "cell_type": "code",
   "execution_count": 17,
   "metadata": {
    "collapsed": true
   },
   "outputs": [],
   "source": [
    "# number of hidden nodes\n",
    "H = 40\n",
    "# input dimension\n",
    "input_dim = 1\n",
    "\n",
    "# create sequential multi-layer perceptron\n",
    "model2 = Sequential()\n",
    "# layer 0\n",
    "# model2.add(...) \n",
    "\n",
    "# layer 1\n",
    "# model2.add(...) \n",
    "\n",
    "# layer 2\n",
    "# model2.add(...) \n",
    "\n",
    "# layer 3\n",
    "# model2.add(...) \n",
    "\n",
    "# layer 4\n",
    "# model2.add(...) \n",
    "\n",
    "# layer 5\n",
    "# model2.add(...) \n",
    "\n",
    "# layer 6\n",
    "# model2.add(...) \n",
    "\n",
    "# configure the model\n",
    "# model2.compile(...)"
   ]
  },
  {
   "cell_type": "code",
   "execution_count": 2,
   "metadata": {
    "collapsed": true
   },
   "outputs": [],
   "source": [
    "# fit the model\n",
    "# model2.fit(...)"
   ]
  },
  {
   "cell_type": "code",
   "execution_count": 19,
   "metadata": {},
   "outputs": [
    {
     "data": {
      "image/png": "[encoded data removed]",
      "text/plain": [
       "<matplotlib.figure.Figure at 0x1a23eb7048>"
      ]
     },
     "metadata": {},
     "output_type": "display_data"
    }
   ],
   "source": [
    "# use our model to predict in the range we want\n",
    "X_range = np.linspace(0, 50, 500)\n",
    "y_pred = model2.predict(X_range)\n",
    "\n",
    "# we plot the model (degree 4 polynomial) against the data\n",
    "fig, ax = plt.subplots()\n",
    "ax.scatter(X_train, Y_train, label='Training data')\n",
    "ax.plot(X_range, y_pred, color='r', label='MLP with one hidden layer')\n",
    "ax.legend(loc='best')\n",
    "ax.set(xlabel='X', ylabel='Y', title='Toy regression data set')\n",
    "plt.show()"
   ]
  },
  {
   "cell_type": "code",
   "execution_count": 20,
   "metadata": {},
   "outputs": [
    {
     "name": "stdout",
     "output_type": "stream",
     "text": [
      "Train loss: 0.00116614405132\n",
      "Train R2: 0.990074966382\n"
     ]
    }
   ],
   "source": [
    "# evaluate the training and testing performance of your model \n",
    "# note: you should extract check both the loss function and your evaluation metric\n",
    "score = model2.evaluate(X_train, Y_train, verbose=0)\n",
    "print('Train loss:', score)\n",
    "print('Train R2:', r2(Y_train, model2.predict(X_train)))"
   ]
  },
  {
   "cell_type": "code",
   "execution_count": 21,
   "metadata": {},
   "outputs": [
    {
     "name": "stdout",
     "output_type": "stream",
     "text": [
      "Test loss: 0.00134764289483\n",
      "Train R2: 0.989087979587\n"
     ]
    }
   ],
   "source": [
    "score = model2.evaluate(X_test, Y_test, verbose=0)\n",
    "print('Test loss:', score)\n",
    "print('Train R2:', r2(Y_test, model2.predict(X_test)))"
   ]
  },
  {
   "cell_type": "markdown",
   "metadata": {},
   "source": [
    "What if we wanted to approximate a different function $f$ with MLP's? ***Experiment with approximating a few different non-linear functions with wide but shallow networks as well as deep but narrow networks.***\n",
    "\n",
    "How expressive do you think MLP's are?"
   ]
  },
  {
   "cell_type": "markdown",
   "metadata": {},
   "source": [
    "## III. Latent Features\n",
    "\n",
    "In Part II, you've seen some evidence that MLP's (even with one single hidden layer) can approximate a large number of functions. In fact, one can prove that **an MLP with a single arbitrarily wide hidden layer can approximate any continuous function on a fixed interval**. \n",
    "\n",
    "This means that MLP's are suitable for regression. What about for classification?\n",
    "\n",
    "Recall that we often model classification problem as regression on the class probability vector. That is, we want to predict the probaility of a point being given a certain class label depending on its covariates. \n",
    "\n",
    "Recall also that the decision boundaries (where the class probabilites are equal and thus the model is most uncertain) for most classification data sets are non-linear (the classes cannot be separated in input space by a line or a flat surface). To learn such boundaries, we typically \n",
    "\n",
    "1. apply a non-linear transformation to the input data (say by adding polynomial features)\n",
    "2. then fit a linear decision boundary (e.g. logistic regression or SVC)\n",
    "\n",
    "Here, the non-linearity of the functions represented by MLP's can help us combine the two tasks into one. That is, we don't need to preprocess the data to add non-linear features, since the MLP will learn the best non-linear transformations to the input in order to achieve the best classification. Thus, this gives us a very intuitive way to interpret the output of the hidden layers of an MLP in a classification task:\n",
    "\n",
    "> ***Outputs of each hidden layer of an MLP is a non-linear transformation of the input data into a feature space. Each hidden layer should transform the input so that it is more linearly separable.***\n",
    "\n",
    "In the following, we interpret the hidden outputs of MLP's in a classification task as mappings of our data into different feature spaces.\n",
    "\n",
    "**Exercise #3:** Train an MLP for a binary classification task on two dimensional data. For each input $\\mathbf{x} \\in \\mathbb{R}^D$, and each hidden layer $l$, extract the output at layer $l$, $\\mathbf{x}_l \\in \\mathbb{R}^H$, we call this the *latent representation of $\\mathbf{x}$* at layer $l$. For each layer, scatter plot the laten representation of the training data. What is happening to the data in each layer of the MLP? Relate the geometric observations to the performance of the MLP as a classifier.\n",
    "\n",
    "***Note:*** You will see later during the semester that often times, we are more interested in learning the latent representation of the data rather than perfecting our performance in a single task (such as classification). "
   ]
  },
  {
   "cell_type": "code",
   "execution_count": 22,
   "metadata": {
    "collapsed": true
   },
   "outputs": [],
   "source": [
    "# generate a toy classification data set with non-linear decision boundary\n",
    "X, Y = make_moons(noise=0.05, random_state=random_seed, n_samples=1000)\n",
    "X = scale(X)\n",
    "X_train, X_test, Y_train, Y_test = train_test_split(X, Y, test_size=.3)"
   ]
  },
  {
   "cell_type": "code",
   "execution_count": 23,
   "metadata": {},
   "outputs": [
    {
     "data": {
      "image/png": "[encoded data removed]",
      "text/plain": [
       "<matplotlib.figure.Figure at 0x1a2436c940>"
      ]
     },
     "metadata": {},
     "output_type": "display_data"
    }
   ],
   "source": [
    "# scatter plot the data, color each class differently\n",
    "fig, ax = plt.subplots()\n",
    "ax.scatter(X[Y==0, 0], X[Y==0, 1], label='Class 0')\n",
    "ax.scatter(X[Y==1, 0], X[Y==1, 1], color='r', label='Class 1')\n",
    "ax.legend()\n",
    "ax.set(xlabel='X', ylabel='Y', title='Toy binary classification data set')\n",
    "plt.show()"
   ]
  },
  {
   "cell_type": "code",
   "execution_count": 24,
   "metadata": {},
   "outputs": [
    {
     "name": "stdout",
     "output_type": "stream",
     "text": [
      "Train accuracy: 0.887142857143\n",
      "Test accuracy: 0.886666666667\n"
     ]
    }
   ],
   "source": [
    "# fit a logistic regression model to classify this data set as a benchmark \n",
    "simple_model = LogisticRegression()\n",
    "simple_model.fit(X_train, Y_train)\n",
    "print('Train accuracy:', simple_model.score(X_train, Y_train))\n",
    "print('Test accuracy:', simple_model.score(X_test, Y_test))"
   ]
  },
  {
   "cell_type": "markdown",
   "metadata": {},
   "source": [
    "Now fix a width $H = 2$ (so that we can scatter plot the latent representations of our data at each layer) and let's fit a MLP network with **multiple** hidden layers, each with the same width. Start with hyperbolic-tan activation functions for the hidden nodes and linear activation for the output. \n",
    "\n",
    "***Experiment with the number of layers and observe the effect of this on the quality of the classification.***  You want to think about issues like computational effeciency and generalizability of this type of modeling. You want to compare the MLP to your logistic regression model (in terms of quality of fit, efficiency and generalizability)."
   ]
  },
  {
   "cell_type": "code",
   "execution_count": 25,
   "metadata": {
    "collapsed": true
   },
   "outputs": [],
   "source": [
    "# fix a width that is suited for visualizing the output of hidden layers\n",
    "H = 2\n",
    "input_dim = X.shape[1]\n",
    "\n",
    "# create sequential multi-layer perceptron\n",
    "model = Sequential()\n",
    "#layer 0\n",
    "# model.add(...) \n",
    "\n",
    "#layer 1\n",
    "# model.add(...) \n",
    "\n",
    "#layer 2\n",
    "# model.add(...) \n",
    "\n",
    "#layer 3\n",
    "# model.add(...) \n",
    "\n",
    "#layer 4\n",
    "# model.add(...) \n",
    "\n",
    "#layer 5\n",
    "# model.add(...) \n",
    "\n",
    "#binary classification, one output\n",
    "# model.add(...) \n",
    "\n",
    "# configure the model\n",
    "# model.compile(...) "
   ]
  },
  {
   "cell_type": "code",
   "execution_count": 3,
   "metadata": {
    "collapsed": true
   },
   "outputs": [],
   "source": [
    "# fit the model\n",
    "# model.fit(...) \n",
    "\n",
    "# Log Reg is secretly regression, we see prob of 0/1 and not 0/1 itself\n",
    "# Polynomial is a kernel feature - preprocess, fit linear model, NN does both in one stretch\n",
    "# Hidden layer is like feature map, does something to data."
   ]
  },
  {
   "cell_type": "code",
   "execution_count": 27,
   "metadata": {},
   "outputs": [
    {
     "name": "stdout",
     "output_type": "stream",
     "text": [
      "Train loss: 0.0135606805235\n",
      "Train accuracy: 1.0\n"
     ]
    }
   ],
   "source": [
    "# evaluate the training and testing performance of your model \n",
    "# note: you should extract check both the loss function and your evaluation metric\n",
    "score = model.evaluate(X_train, Y_train, verbose=0)\n",
    "print('Train loss:', score[0])\n",
    "print('Train accuracy:', score[1])"
   ]
  },
  {
   "cell_type": "code",
   "execution_count": 28,
   "metadata": {},
   "outputs": [
    {
     "name": "stdout",
     "output_type": "stream",
     "text": [
      "Test loss: 0.0138784240186\n",
      "Test accuracy: 1.0\n"
     ]
    }
   ],
   "source": [
    "score = model.evaluate(X_test, Y_test, verbose=0)\n",
    "print('Test loss:', score[0])\n",
    "print('Test accuracy:', score[1])"
   ]
  },
  {
   "cell_type": "markdown",
   "metadata": {},
   "source": [
    "Now let's plot the latent representations of our data given by each hidden layer.\n",
    "\n",
    "To do this, we need to extract the weights learned by our model up to layer $l$, then configure another MLP with only $l$ layers using these weights and then run our training data through the second MLP."
   ]
  },
  {
   "cell_type": "code",
   "execution_count": 29,
   "metadata": {
    "collapsed": true
   },
   "outputs": [],
   "source": [
    "# get the class probabilities predicted by our MLP on the training set\n",
    "Y_train_pred = model.predict(X_train)"
   ]
  },
  {
   "cell_type": "code",
   "execution_count": 30,
   "metadata": {
    "collapsed": true
   },
   "outputs": [],
   "source": [
    "# define another MLP with no hidden layer (only input and output) using \n",
    "# the weights between the input and the first hidden layer from the classifier we just learned\n",
    "latent_model = Sequential()\n",
    "latent_model.add(Dense(H, input_dim=input_dim, weights=model.layers[0].get_weights(), activation='tanh'))\n",
    "activations = latent_model.predict(X_train)"
   ]
  },
  {
   "cell_type": "code",
   "execution_count": 31,
   "metadata": {},
   "outputs": [
    {
     "data": {
      "image/png": "[encoded data removed]",
      "text/plain": [
       "<matplotlib.figure.Figure at 0x1a24f43940>"
      ]
     },
     "metadata": {},
     "output_type": "display_data"
    }
   ],
   "source": [
    "# plot the latent representation of our training data at the first hidden layer\n",
    "Y_train_pred = Y_train_pred.reshape((Y_train_pred.shape[0], ))\n",
    "\n",
    "fig, ax = plt.subplots()\n",
    "ax.scatter(activations[Y_train_pred >= 0.5, 0], activations[Y_train_pred >= 0.5, 1], color='r', label='Class 1')\n",
    "ax.scatter(activations[Y_train_pred < 0.5, 0], activations[Y_train_pred < 0.5, 1], label='Class 0')\n",
    "ax.legend()\n",
    "plt.show()"
   ]
  },
  {
   "cell_type": "markdown",
   "metadata": {},
   "source": [
    "Now do this visualization for each of the seven hidden layers in your MLP classifier. How is the data being transformed from layer to layer?"
   ]
  },
  {
   "cell_type": "code",
   "execution_count": 4,
   "metadata": {
    "collapsed": true
   },
   "outputs": [],
   "source": [
    "# extract the latent representation of your data at layer 1 of the MLP\n",
    "# etc..."
   ]
  },
  {
   "cell_type": "markdown",
   "metadata": {},
   "source": [
    "## IV. Sensitivity\n",
    "\n",
    "As you have no doubt noticed, your learning algorithm for fitting the MLP's do not always end up with the same solution. Stochasticity is introduced in the learning process in two places:\n",
    "\n",
    "1. the optimization is potentially not exact (we use stochastic gradients)\n",
    "2. the objective is generally non-convex (i.e. there are possibly many 'pretty good' solutions and our algorithms tend to get stuck in them rather than seek out 'the absolute best' solutison) and so the solution you find will depend on where you initialize the optimization (i.e. check your initialization for the weights).\n",
    "\n",
    "**Exercise #4:** For the regression problem in Part II, fit multiple MLP's initializing the weights randomnly, plot the functions you get from each of your random restart solutions. How big is the variability?\n",
    "\n",
    "Often, the problem of non-unqiueness of the solution to the optimization problem of learning an MLP is exacerbated by the scarcity of data. In fact people often say that deep learning requires big data. \n",
    "\n",
    "**Exercise #5:** What is potentially problemmatic about training an MLP when the number of training data points is small? (*Hint:* look at the closed form expression for the function represented by an MLP with a single hidden layer and treat this simply as a ordinary least squares regression problem from CS109A). How can we generalize techniques for handling potential pathologies of regression or classification problems (again from CS109A and the first half of CS109B) to MLP models?"
   ]
  }
 ],
 "metadata": {
  "kernelspec": {
   "display_name": "Python 3",
   "language": "python",
   "name": "python3"
  },
  "language_info": {
   "codemirror_mode": {
    "name": "ipython",
    "version": 3
   },
   "file_extension": ".py",
   "mimetype": "text/x-python",
   "name": "python",
   "nbconvert_exporter": "python",
   "pygments_lexer": "ipython3",
   "version": "3.6.1"
  }
 },
 "nbformat": 4,
 "nbformat_minor": 2
}
